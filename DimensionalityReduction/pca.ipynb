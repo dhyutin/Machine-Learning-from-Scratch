{
 "cells": [
  {
   "cell_type": "code",
   "execution_count": 132,
   "metadata": {},
   "outputs": [],
   "source": [
    "import numpy as np\n",
    "from sklearn.datasets import load_iris\n",
    "import matplotlib.pyplot as plt\n",
    "\n",
    "data = load_iris()\n",
    "X = data.data\n",
    "y = data.target"
   ]
  },
  {
   "cell_type": "code",
   "execution_count": 140,
   "metadata": {},
   "outputs": [
    {
     "data": {
      "text/plain": [
       "array([[ 0.52106591, -0.26934744,  0.5804131 ,  0.56485654],\n",
       "       [ 0.37741762,  0.92329566,  0.02449161,  0.06694199]])"
      ]
     },
     "execution_count": 140,
     "metadata": {},
     "output_type": "execute_result"
    }
   ],
   "source": [
    "from sklearn.preprocessing import StandardScaler\n",
    "X_std = StandardScaler().fit_transform(X)\n",
    "\n",
    "from sklearn.decomposition import PCA\n",
    "pca = PCA(n_components = 2).fit(X_std)\n",
    "\n",
    "pca.components_"
   ]
  },
  {
   "cell_type": "code",
   "execution_count": 143,
   "metadata": {},
   "outputs": [],
   "source": [
    "class PCA_cust:\n",
    "    def __init__(self, n_components = 2):\n",
    "        self.n_components = n_components\n",
    "        \n",
    "    def standardize(self, X):\n",
    "        means = np.array([np.mean(X[:, i]) for i in range(X.shape[1])])\n",
    "        stds = np.array([np.std(X[:, i]) for i in range(X.shape[1])])\n",
    "        return (X - means)/stds\n",
    "    \n",
    "    def covariance(self, X):\n",
    "        return (X.T@X)/(X.shape[0]-1)\n",
    "    \n",
    "    def svd(self, A, tol=1e-10, max_iter=1000):\n",
    "\n",
    "        AT_A = np.dot(A.T, A)\n",
    "        n = AT_A.shape[0]\n",
    "        \n",
    "        # Initialize V\n",
    "        V = np.eye(n)\n",
    "        \n",
    "        # Jacobi eigenvalue decomposition for AT_A\n",
    "        for _ in range(max_iter):\n",
    "            \n",
    "            # Find largest off diagonal element of AT_A\n",
    "            off_diagonal_indices = np.triu_indices(n, k=1)\n",
    "            max_off_diag = np.abs(AT_A[off_diagonal_indices]).max()\n",
    "            \n",
    "            if max_off_diag < tol:\n",
    "                break\n",
    "            # Find indices of the largest off-diagonal element\n",
    "            idx = np.argmax(np.abs(AT_A[off_diagonal_indices]))\n",
    "            p, q = off_diagonal_indices[0][idx], off_diagonal_indices[1][idx]\n",
    "            \n",
    "            # Compute rotation angle\n",
    "            if AT_A[p, p] == AT_A[q, q]:\n",
    "                theta = np.pi / 4\n",
    "            else:\n",
    "                theta = 0.5 * np.arctan2(2 * AT_A[p, q], AT_A[p, p] - AT_A[q, q])\n",
    "                \n",
    "            # Rotate\n",
    "            R = np.eye(n)\n",
    "            R[p, p] = R[q, q] = np.cos(theta)\n",
    "            R[p, q] = -np.sin(theta)\n",
    "            R[q, p] = np.sin(theta)\n",
    "            \n",
    "\n",
    "            AT_A = R.T @ AT_A @ R\n",
    "            V = V @ R\n",
    "            \n",
    "        singular_values = np.sqrt(np.diag(AT_A))\n",
    "        \n",
    "        s_inv = np.diag([1/s if s > tol else 0 for s in singular_values])\n",
    "        \n",
    "        U = A @ V @ s_inv\n",
    "\n",
    "        return U, singular_values, V.T\n",
    "        \n",
    "    def pca(self, X):\n",
    "        \n",
    "        X_std = self.standardize(X)\n",
    "        \n",
    "        cov_matrix = self.covariance(X_std)\n",
    "        \n",
    "        _, _, V = self.svd(cov_matrix)\n",
    "        \n",
    "        components = V[:self.n_components]\n",
    "        \n",
    "        X_reduced = np.dot(X_std[:, :self.n_components], components)\n",
    "        return components\n",
    "        \n",
    "        \n",
    "        \n",
    "        "
   ]
  },
  {
   "cell_type": "code",
   "execution_count": 146,
   "metadata": {},
   "outputs": [],
   "source": [
    "a = PCA_cust(n_components=2)\n",
    "\n",
    "p =a.pca(X)"
   ]
  },
  {
   "cell_type": "code",
   "execution_count": 147,
   "metadata": {},
   "outputs": [
    {
     "data": {
      "text/plain": [
       "array([[ 0.52106591, -0.26934744,  0.5804131 ,  0.56485654],\n",
       "       [ 0.37741762,  0.92329566,  0.02449161,  0.06694199]])"
      ]
     },
     "execution_count": 147,
     "metadata": {},
     "output_type": "execute_result"
    }
   ],
   "source": [
    "p"
   ]
  },
  {
   "cell_type": "code",
   "execution_count": null,
   "metadata": {},
   "outputs": [],
   "source": []
  },
  {
   "cell_type": "code",
   "execution_count": null,
   "metadata": {},
   "outputs": [],
   "source": []
  },
  {
   "cell_type": "code",
   "execution_count": null,
   "metadata": {},
   "outputs": [],
   "source": []
  },
  {
   "cell_type": "code",
   "execution_count": null,
   "metadata": {},
   "outputs": [],
   "source": []
  },
  {
   "cell_type": "code",
   "execution_count": null,
   "metadata": {},
   "outputs": [],
   "source": []
  },
  {
   "cell_type": "code",
   "execution_count": null,
   "metadata": {},
   "outputs": [],
   "source": []
  }
 ],
 "metadata": {
  "kernelspec": {
   "display_name": "mlscratch",
   "language": "python",
   "name": "python3"
  },
  "language_info": {
   "codemirror_mode": {
    "name": "ipython",
    "version": 3
   },
   "file_extension": ".py",
   "mimetype": "text/x-python",
   "name": "python",
   "nbconvert_exporter": "python",
   "pygments_lexer": "ipython3",
   "version": "3.10.4"
  }
 },
 "nbformat": 4,
 "nbformat_minor": 2
}
