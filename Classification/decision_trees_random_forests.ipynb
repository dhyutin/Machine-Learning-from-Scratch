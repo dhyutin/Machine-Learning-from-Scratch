{
 "cells": [
  {
   "cell_type": "code",
   "execution_count": 1,
   "metadata": {},
   "outputs": [
    {
     "name": "stdout",
     "output_type": "stream",
     "text": [
      "Features (X):\n",
      "   pclass  sibsp  parch     fare  class  adult_male  embark_town alive  alone\n",
      "0       3      1      0   7.2500  Third        True  Southampton    no  False\n",
      "1       1      1      0  71.2833  First       False    Cherbourg   yes  False\n",
      "2       3      0      0   7.9250  Third       False  Southampton   yes   True\n",
      "3       1      1      0  53.1000  First       False  Southampton   yes  False\n",
      "4       3      0      0   8.0500  Third        True  Southampton    no   True\n",
      "\n",
      "Target (y):\n",
      "0    0\n",
      "1    1\n",
      "2    1\n",
      "3    1\n",
      "4    0\n",
      "Name: survived, dtype: int64\n"
     ]
    }
   ],
   "source": [
    "import numpy as np\n",
    "from sklearn.datasets import load_iris\n",
    "import matplotlib.pyplot as plt\n",
    "import pandas as pd\n",
    "import seaborn as sns\n",
    "\n",
    "import seaborn as sns\n",
    "\n",
    "# Load Titanic dataset\n",
    "titanic = sns.load_dataset('titanic')\n",
    "\n",
    "# Drop columns that are not useful for prediction\n",
    "columns_to_drop = ['deck', 'embarked', 'who', 'sex', 'age']  # Example columns to drop\n",
    "titanic_dropped = titanic.drop(columns=columns_to_drop)\n",
    "\n",
    "# Target variable (y) - 'survived' column\n",
    "y = titanic_dropped['survived']\n",
    "\n",
    "# Features (X) - All columns except 'survived'\n",
    "X = titanic_dropped.drop(columns='survived')\n",
    "\n",
    "# View the first few rows of X and y\n",
    "print(\"Features (X):\")\n",
    "print(X.head())\n",
    "\n",
    "print(\"\\nTarget (y):\")\n",
    "print(y.head())\n",
    "\n",
    "\n"
   ]
  },
  {
   "cell_type": "code",
   "execution_count": 2,
   "metadata": {},
   "outputs": [
    {
     "name": "stdout",
     "output_type": "stream",
     "text": [
      "Training features (X_train): (757, 9)\n",
      "Test features (X_test): (134, 9)\n",
      "Training target (y_train): (757,)\n",
      "Test target (y_test): (134,)\n"
     ]
    }
   ],
   "source": [
    "from sklearn.model_selection import train_test_split\n",
    "\n",
    "# Split the data into training and testing sets\n",
    "X_train, X_test, y_train, y_test = train_test_split(X, y, test_size=0.15, random_state=42)\n",
    "\n",
    "# View the shape of the splits\n",
    "print(f\"Training features (X_train): {X_train.shape}\")\n",
    "print(f\"Test features (X_test): {X_test.shape}\")\n",
    "print(f\"Training target (y_train): {y_train.shape}\")\n",
    "print(f\"Test target (y_test): {y_test.shape}\")\n"
   ]
  },
  {
   "cell_type": "code",
   "execution_count": 3,
   "metadata": {},
   "outputs": [],
   "source": [
    "def convert_to_numeric(df):\n",
    "    for column in df.columns:\n",
    "        # Convert column to numeric, invalid parsing will be set to NaN\n",
    "        df[column] = pd.to_numeric(df[column], errors='coerce')\n",
    "    return df\n",
    "\n",
    "X_train = convert_to_numeric(X_train)\n",
    "X_train_np = X_train.to_numpy()\n",
    "\n",
    "X_test = convert_to_numeric(X_test)\n",
    "X_test_np = X_test.to_numpy()\n",
    "\n",
    "y_train_np = y_train.to_numpy()\n",
    "\n",
    "y_test_np = y_test.to_numpy()"
   ]
  },
  {
   "cell_type": "code",
   "execution_count": 4,
   "metadata": {},
   "outputs": [],
   "source": [
    "class DecisionTreeClassifier:\n",
    "    def __init__(self, X, y):\n",
    "        self.X = X\n",
    "        self.y = y\n",
    "        self.tree = dict()\n",
    "        \n",
    "    def entropy(self, splits):\n",
    "        total_size = sum(len(split) for split in splits)\n",
    "        if(total_size == 0):\n",
    "            return 0\n",
    "        total_entropy = 0\n",
    "        \n",
    "        for split in splits:\n",
    "            split = np.array(split)\n",
    "            classes = np.unique(split)\n",
    "            split_entropy = 0\n",
    "            for classs in classes:\n",
    "                p = len(split[split ==classs])/len(split)\n",
    "                split_entropy += - p * np.log2(p) if p > 0 else 0\n",
    "                \n",
    "            total_entropy += (len(split)/total_size)*split_entropy\n",
    "            \n",
    "        return total_entropy\n",
    "        \n",
    "    def best_feature(self):\n",
    "        \n",
    "        information_gains = []\n",
    "        for idx in range(self.X.shape[1]):\n",
    "            feature = self.X[:, idx]\n",
    "            feature_vals = np.unique(feature)\n",
    "            \n",
    "            #split the data on basis of this feature\n",
    "            splits = []\n",
    "            for feature_val in feature_vals:\n",
    "                # print(feature_val)\n",
    "                splits.append(self.y[self.X[:, idx] == feature_val])\n",
    "                \n",
    "            entropyy = self.entropy(splits)\n",
    "            parent_entropy = 0 if idx==0 else entropyy\n",
    "            information_gain = parent_entropy - entropyy\n",
    "            information_gains.append(information_gain)\n",
    "            \n",
    "        best_feature_idx = information_gains.index(max(information_gains))\n",
    "        return best_feature_idx\n",
    "           \n",
    "    def build_tree(self, X, y, depth=0, max_depth=10, min_samples_split=2):\n",
    "        if len(np.unique(y)) == 1:  \n",
    "            return np.unique(y)[0]\n",
    "        \n",
    "        if len(X) < min_samples_split: \n",
    "            return np.bincount(y).argmax()  \n",
    "        \n",
    "        if depth >= max_depth: \n",
    "            return np.bincount(y).argmax()\n",
    "        \n",
    "        best_feature_idx = self.best_feature()\n",
    "        best_feature_vals = np.unique(X[:, best_feature_idx])\n",
    "        \n",
    "        tree = {}\n",
    "        for value in best_feature_vals:\n",
    "            X_split = X[X[:, best_feature_idx] == value]\n",
    "            y_split = y[X[:, best_feature_idx] == value]\n",
    "            tree[value] = self.build_tree(X_split, y_split, depth + 1, max_depth, min_samples_split)\n",
    "            \n",
    "        return {best_feature_idx: tree}\n",
    "\n",
    "    \n",
    "    def fit(self, X, y):\n",
    "        self.tree = self.build_tree(X, y)\n",
    "        return self.tree\n",
    "\n",
    "\n",
    "    def predict(self, X):\n",
    "        predictions = [self.predict_single(x, self.tree) for x in X]\n",
    "        return predictions\n",
    "    \n",
    "    def predict_single(self, x, tree):\n",
    "        if isinstance(tree, dict):\n",
    "            feature_idx = list(tree.keys())[0]\n",
    "            feature_val = x[feature_idx]\n",
    "        \n",
    "            if feature_val in tree[feature_idx]:\n",
    "                return self.predict_single(x, tree[feature_idx][feature_val])\n",
    "        else:\n",
    "            return tree\n",
    "        \n",
    "    # Metrics Calculation\n",
    "    def calculate_metrics(self, y_pred, y):\n",
    "        tp = tn = fp = fn = 0\n",
    "\n",
    "        for idx, y_i in enumerate(y_pred):\n",
    "            if y_i == 1 and y[idx] == 1:\n",
    "                tp += 1  # True Positive\n",
    "            elif y_i == 0 and y[idx] == 0:\n",
    "                tn += 1  # True Negative\n",
    "            elif y_i == 1 and y[idx] == 0:\n",
    "                fp += 1  # False Positive\n",
    "            elif y_i == 0 and y[idx] == 1:\n",
    "                fn += 1  # False Negative\n",
    "        \n",
    "        accuracy = ((tp + tn) / len(y)) * 100\n",
    "        precision = tp / (tp + fp) if tp + fp != 0 else 0\n",
    "        recall = tp / (tp + fn) if tp + fn != 0 else 0\n",
    "        f1_score = 2 * (precision * recall) / (precision + recall) if precision + recall != 0 else 0\n",
    "        confusion_matrix = {'TP': tp, 'TN': tn, 'FP': fp, 'FN': fn}\n",
    "        \n",
    "        return accuracy, precision, recall, f1_score, confusion_matrix\n",
    "    \n",
    "    # Function to print the metrics\n",
    "    def print_metrics(self, X_test, y_test):\n",
    "        y_pred = self.predict(X_test)\n",
    "        accuracy, precision, recall, f1_score, confusion_matrix = self.calculate_metrics(y_pred, y_test)\n",
    "\n",
    "        print(f\"Accuracy: {accuracy:.4f}%\")\n",
    "        print(f\"Precision: {precision:.4f}\")\n",
    "        print(f\"Recall: {recall:.4f}\")\n",
    "        print(f\"F1-Score: {f1_score:.4f}\")\n",
    "        print(\"Confusion Matrix:\")\n",
    "        print(confusion_matrix)"
   ]
  },
  {
   "cell_type": "code",
   "execution_count": 5,
   "metadata": {},
   "outputs": [],
   "source": [
    "dt = DecisionTreeClassifier(X_train_np, y_train_np)\n",
    "\n",
    "tree = dt.fit(X_train_np, y_train_np)"
   ]
  },
  {
   "cell_type": "code",
   "execution_count": 6,
   "metadata": {},
   "outputs": [],
   "source": [
    "# dt.predict(X_test_np)"
   ]
  },
  {
   "cell_type": "code",
   "execution_count": 7,
   "metadata": {},
   "outputs": [
    {
     "name": "stdout",
     "output_type": "stream",
     "text": [
      "TEST\n",
      "Accuracy: 64.1791%\n",
      "Precision: 0.6333\n",
      "Recall: 0.3393\n",
      "F1-Score: 0.4419\n",
      "Confusion Matrix:\n",
      "{'TP': 19, 'TN': 67, 'FP': 11, 'FN': 37}\n"
     ]
    }
   ],
   "source": [
    "print(\"TEST\")\n",
    "dt.print_metrics(X_test_np, y_test_np)"
   ]
  },
  {
   "cell_type": "code",
   "execution_count": 8,
   "metadata": {},
   "outputs": [
    {
     "name": "stdout",
     "output_type": "stream",
     "text": [
      "TRAIN\n",
      "Accuracy: 63.1440%\n",
      "Precision: 0.5196\n",
      "Recall: 0.3252\n",
      "F1-Score: 0.4000\n",
      "Confusion Matrix:\n",
      "{'TP': 93, 'TN': 385, 'FP': 86, 'FN': 193}\n"
     ]
    }
   ],
   "source": [
    "print(\"TRAIN\")\n",
    "dt.print_metrics(X_train_np, y_train_np)"
   ]
  },
  {
   "cell_type": "markdown",
   "metadata": {},
   "source": [
    "## RANDOM FOREST"
   ]
  },
  {
   "cell_type": "code",
   "execution_count": 9,
   "metadata": {},
   "outputs": [],
   "source": [
    "class RandomForestClassifier:\n",
    "    def __init__(self, n_trees=100, max_depth=10, min_samples_split=2, max_features=None):\n",
    "        self.n_trees = n_trees\n",
    "        self.max_depth = max_depth\n",
    "        self.min_samples_split = min_samples_split\n",
    "        self.max_features = max_features\n",
    "        self.trees = []\n",
    "\n",
    "    def bootstrap_sample(self, X, y):\n",
    "        n_samples = X.shape[0]\n",
    "        idxs = np.random.choice(n_samples, size=n_samples, replace=True)\n",
    "        return X[idxs], y[idxs]\n",
    "\n",
    "    def fit(self, X, y):\n",
    "        self.trees = []\n",
    "        for _ in range(self.n_trees):\n",
    "            X_sample, y_sample = self.bootstrap_sample(X, y)\n",
    "\n",
    "            tree = DecisionTreeClassifier(X_sample, y_sample)\n",
    "            tree.fit(X_sample, y_sample)\n",
    "            self.trees.append(tree)\n",
    "\n",
    "    def predict_single(self, x):\n",
    "        tree_predictions = [tree.predict_single(x, tree.tree) for tree in self.trees]\n",
    "        return max(set(tree_predictions), key=tree_predictions.count)\n",
    "\n",
    "    def predict(self, X):\n",
    "        return [self.predict_single(x) for x in X]\n",
    "\n",
    "    def print_metrics(self, X_test, y_test):\n",
    "        y_pred = self.predict(X_test)\n",
    "        accuracy, precision, recall, f1_score, confusion_matrix = self.calculate_metrics(y_pred, y_test)\n",
    "\n",
    "        print(f\"Accuracy: {accuracy:.4f}%\")\n",
    "        print(f\"Precision: {precision:.4f}\")\n",
    "        print(f\"Recall: {recall:.4f}\")\n",
    "        print(f\"F1-Score: {f1_score:.4f}\")\n",
    "        print(\"Confusion Matrix:\")\n",
    "        print(confusion_matrix)\n",
    "    \n",
    "    # Metrics Calculation\n",
    "    def calculate_metrics(self, y_pred, y):\n",
    "        tp = tn = fp = fn = 0\n",
    "        for idx, y_i in enumerate(y_pred):\n",
    "            if y_i == 1 and y[idx] == 1:\n",
    "                tp += 1  # True Positive\n",
    "            elif y_i == 0 and y[idx] == 0:\n",
    "                tn += 1  # True Negative\n",
    "            elif y_i == 1 and y[idx] == 0:\n",
    "                fp += 1  # False Positive\n",
    "            elif y_i == 0 and y[idx] == 1:\n",
    "                fn += 1  # False Negative\n",
    "        \n",
    "        accuracy = ((tp + tn) / len(y)) * 100\n",
    "        precision = tp / (tp + fp) if tp + fp != 0 else 0\n",
    "        recall = tp / (tp + fn) if tp + fn != 0 else 0\n",
    "        f1_score = 2 * (precision * recall) / (precision + recall) if precision + recall != 0 else 0\n",
    "        confusion_matrix = {'TP': tp, 'TN': tn, 'FP': fp, 'FN': fn}\n",
    "        \n",
    "        return accuracy, precision, recall, f1_score, confusion_matrix\n"
   ]
  },
  {
   "cell_type": "code",
   "execution_count": 18,
   "metadata": {},
   "outputs": [],
   "source": [
    "rf = RandomForestClassifier(15, 5, 5)\n",
    "rf.fit(X_train_np, y_train_np)"
   ]
  },
  {
   "cell_type": "code",
   "execution_count": 19,
   "metadata": {},
   "outputs": [
    {
     "name": "stdout",
     "output_type": "stream",
     "text": [
      "TEST\n",
      "Accuracy: 64.1791%\n",
      "Precision: 0.6333\n",
      "Recall: 0.3393\n",
      "F1-Score: 0.4419\n",
      "Confusion Matrix:\n",
      "{'TP': 19, 'TN': 67, 'FP': 11, 'FN': 37}\n"
     ]
    }
   ],
   "source": [
    "print(\"TEST\")\n",
    "rf.print_metrics(X_test_np, y_test_np)"
   ]
  },
  {
   "cell_type": "code",
   "execution_count": 20,
   "metadata": {},
   "outputs": [
    {
     "name": "stdout",
     "output_type": "stream",
     "text": [
      "TRAIN\n",
      "Accuracy: 63.1440%\n",
      "Precision: 0.5196\n",
      "Recall: 0.3252\n",
      "F1-Score: 0.4000\n",
      "Confusion Matrix:\n",
      "{'TP': 93, 'TN': 385, 'FP': 86, 'FN': 193}\n"
     ]
    }
   ],
   "source": [
    "print(\"TRAIN\")\n",
    "rf.print_metrics(X_train_np, y_train_np)"
   ]
  },
  {
   "cell_type": "code",
   "execution_count": null,
   "metadata": {},
   "outputs": [],
   "source": []
  }
 ],
 "metadata": {
  "kernelspec": {
   "display_name": "mlscratch",
   "language": "python",
   "name": "python3"
  },
  "language_info": {
   "codemirror_mode": {
    "name": "ipython",
    "version": 3
   },
   "file_extension": ".py",
   "mimetype": "text/x-python",
   "name": "python",
   "nbconvert_exporter": "python",
   "pygments_lexer": "ipython3",
   "version": "3.10.4"
  }
 },
 "nbformat": 4,
 "nbformat_minor": 2
}
